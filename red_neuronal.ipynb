{
  "nbformat": 4,
  "nbformat_minor": 0,
  "metadata": {
    "colab": {
      "name": "red-neuronal.ipynb",
      "provenance": [],
      "collapsed_sections": [],
      "authorship_tag": "ABX9TyPQqpV+Rp26sQPtAjImITzh",
      "include_colab_link": true
    },
    "kernelspec": {
      "name": "python3",
      "display_name": "Python 3"
    }
  },
  "cells": [
    {
      "cell_type": "markdown",
      "metadata": {
        "id": "view-in-github",
        "colab_type": "text"
      },
      "source": [
        "<a href=\"https://colab.research.google.com/github/franco-balich/red-neuronal-test/blob/main/red_neuronal.ipynb\" target=\"_parent\"><img src=\"https://colab.research.google.com/assets/colab-badge.svg\" alt=\"Open In Colab\"/></a>"
      ]
    },
    {
      "cell_type": "code",
      "metadata": {
        "id": "4jk__dHbVwIM"
      },
      "source": [
        "import numpy as np\n",
        "import scipy as sc\n",
        "import matplotlib.pyplot as plt\n",
        "\n",
        "from sklearn.datasets import make_circles"
      ],
      "execution_count": 4,
      "outputs": []
    },
    {
      "cell_type": "code",
      "metadata": {
        "id": "KTxIYBr-WZMV",
        "outputId": "d7e75643-5211-4e8f-ff1e-d5040d0f4547",
        "colab": {
          "base_uri": "https://localhost:8080/",
          "height": 265
        }
      },
      "source": [
        "# Crear el dataset\n",
        "\n",
        "n = 500\n",
        "p=2\n",
        "\n",
        "X,Y=make_circles(n_samples=n,factor=0.5, noise=0.05)\n",
        "\n",
        "plt.scatter(X[Y==0,0],X[Y==0,1],c=\"skyblue\")\n",
        "plt.scatter(X[Y==1,0],X[Y==1,1],c=\"salmon\")\n",
        "plt.axis(\"equal\")\n",
        "plt.show()"
      ],
      "execution_count": 12,
      "outputs": [
        {
          "output_type": "display_data",
          "data": {
            "image/png": "[encoded data removed]",
            "text/plain": [
              "<Figure size 432x288 with 1 Axes>"
            ]
          },
          "metadata": {
            "tags": [],
            "needs_background": "light"
          }
        }
      ]
    },
    {
      "cell_type": "code",
      "metadata": {
        "id": "bJAZt6TNdBXJ"
      },
      "source": [
        "# Clase de la capa de la red\n",
        "\n",
        "class neural_layer():\n",
        "\n",
        "  def __init__(self,n_conn,n_neur,act_f):\n",
        "    self.act_f = act_f\n",
        "    self.b=np.random.rand(1,n_neur)     *2-1\n",
        "    self.w=np.random.rand(n_conn,n_neur)*2-1"
      ],
      "execution_count": 13,
      "outputs": []
    },
    {
      "cell_type": "code",
      "metadata": {
        "id": "7gWeXfibd6gc",
        "outputId": "954f2090-fcb4-4673-fb59-76ad330fcf00",
        "colab": {
          "base_uri": "https://localhost:8080/",
          "height": 282
        }
      },
      "source": [
        "# Funciones de activacion\n",
        "\n",
        "sigm = (lambda x:1/(1+np.e**(-x)),\n",
        "        lambda x: x*(1-x))\n",
        "\n",
        "relu = lambda x: np.maximum(0,x)\n",
        "\n",
        "_x = np.linspace(-5,5,100)\n",
        "plt.plot(_x,sigm[0](_x))\n"
      ],
      "execution_count": 19,
      "outputs": [
        {
          "output_type": "execute_result",
          "data": {
            "text/plain": [
              "[<matplotlib.lines.Line2D at 0x7fcfa6568898>]"
            ]
          },
          "metadata": {
            "tags": []
          },
          "execution_count": 19
        },
        {
          "output_type": "display_data",
          "data": {
            "image/png": "[encoded data removed]",
            "text/plain": [
              "<Figure size 432x288 with 1 Axes>"
            ]
          },
          "metadata": {
            "tags": [],
            "needs_background": "light"
          }
        }
      ]
    },
    {
      "cell_type": "code",
      "metadata": {
        "id": "0yC0ttCHfaP3",
        "outputId": "87c2f84f-a4d3-408d-fdde-9c3331f7a10a",
        "colab": {
          "base_uri": "https://localhost:8080/"
        }
      },
      "source": [
        "l0 = neural_layer(p,4,sigm)\n",
        "l1 = neural_layer(4,8,sigm)\n",
        "#...\n",
        "\n",
        "def create_nn(topology,act_f):\n",
        "  nn=[]\n",
        "  for l,layer in enumerate(topology[:-1]):\n",
        "    nn.append(neural_layer(topology[l],topology[l+1],act_f))\n",
        "  return nn\n"
      ],
      "execution_count": 21,
      "outputs": [
        {
          "output_type": "execute_result",
          "data": {
            "text/plain": [
              "[<__main__.neural_layer at 0x7fcfa65094a8>,\n",
              " <__main__.neural_layer at 0x7fcfa6509ac8>,\n",
              " <__main__.neural_layer at 0x7fcfa6509b38>,\n",
              " <__main__.neural_layer at 0x7fcfa6509128>,\n",
              " <__main__.neural_layer at 0x7fcfa6509240>,\n",
              " <__main__.neural_layer at 0x7fcfa6509550>]"
            ]
          },
          "metadata": {
            "tags": []
          },
          "execution_count": 21
        }
      ]
    },
    {
      "cell_type": "code",
      "metadata": {
        "id": "78u8vCOXhWao",
        "outputId": "9278a3cb-a691-4b02-d88b-70102fc2cccb",
        "colab": {
          "base_uri": "https://localhost:8080/"
        }
      },
      "source": [
        "topology=[p,4,8,16,8,4,1]\n",
        "\n",
        "neural_net=create_nn(topology,sigm)\n",
        "\n",
        "l2_cost= (lambda Yp,Yr:np.mean((Yp-Yr)**2),\n",
        "          lambda Yp,Yr:(Yp-Yr))\n",
        "\n",
        "def train(neural_net, X, Y, l2_cost,lr=0.5,train=true):\n",
        "\n",
        "  out = [(None,X)]\n",
        "  # Forward pass\n",
        "  for l, layer in enumerate(neural_net):\n",
        "    z= out[-1][1] @ neural_net[l].w + neural_net[l].b\n",
        "    a=neural_net[0].act_f[0](z)\n",
        "\n",
        "    out.append((z,a))\n",
        "\n",
        "  print(l2_cost[0](out[-1][1],Y))\n",
        "\n",
        "  if train:\n",
        "\n",
        "    #Backwad pass\n",
        "\n",
        "    #Gradient descent\n",
        "\n",
        "train(neural_net,X,Y,l2_cost,0.5)"
      ],
      "execution_count": 34,
      "outputs": [
        {
          "output_type": "stream",
          "text": [
            "0.26066491170877604\n"
          ],
          "name": "stdout"
        }
      ]
    }
  ]
}